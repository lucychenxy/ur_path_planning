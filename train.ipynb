{
 "cells": [
  {
   "cell_type": "code",
   "execution_count": 1,
   "metadata": {},
   "outputs": [
    {
     "name": "stderr",
     "output_type": "stream",
     "text": [
      "\n",
      "A module that was compiled using NumPy 1.x cannot be run in\n",
      "NumPy 2.0.1 as it may crash. To support both 1.x and 2.x\n",
      "versions of NumPy, modules must be compiled with NumPy 2.0.\n",
      "Some module may need to rebuild instead e.g. with 'pybind11>=2.12'.\n",
      "\n",
      "If you are a user of the module, the easiest solution will be to\n",
      "downgrade to 'numpy<2' or try to upgrade the affected module.\n",
      "We expect that some modules will need time to support NumPy 2.\n",
      "\n",
      "Traceback (most recent call last):  File \"c:\\Users\\lucyc\\anaconda3\\envs\\ur_path_planning\\lib\\runpy.py\", line 197, in _run_module_as_main\n",
      "    return _run_code(code, main_globals, None,\n",
      "  File \"c:\\Users\\lucyc\\anaconda3\\envs\\ur_path_planning\\lib\\runpy.py\", line 87, in _run_code\n",
      "    exec(code, run_globals)\n",
      "  File \"c:\\Users\\lucyc\\anaconda3\\envs\\ur_path_planning\\lib\\site-packages\\ipykernel_launcher.py\", line 17, in <module>\n",
      "    app.launch_new_instance()\n",
      "  File \"c:\\Users\\lucyc\\anaconda3\\envs\\ur_path_planning\\lib\\site-packages\\traitlets\\config\\application.py\", line 1075, in launch_instance\n",
      "    app.start()\n",
      "  File \"c:\\Users\\lucyc\\anaconda3\\envs\\ur_path_planning\\lib\\site-packages\\ipykernel\\kernelapp.py\", line 701, in start\n",
      "    self.io_loop.start()\n",
      "  File \"c:\\Users\\lucyc\\anaconda3\\envs\\ur_path_planning\\lib\\site-packages\\tornado\\platform\\asyncio.py\", line 205, in start\n",
      "    self.asyncio_loop.run_forever()\n",
      "  File \"c:\\Users\\lucyc\\anaconda3\\envs\\ur_path_planning\\lib\\asyncio\\windows_events.py\", line 321, in run_forever\n",
      "    super().run_forever()\n",
      "  File \"c:\\Users\\lucyc\\anaconda3\\envs\\ur_path_planning\\lib\\asyncio\\base_events.py\", line 601, in run_forever\n",
      "    self._run_once()\n",
      "  File \"c:\\Users\\lucyc\\anaconda3\\envs\\ur_path_planning\\lib\\asyncio\\base_events.py\", line 1905, in _run_once\n",
      "    handle._run()\n",
      "  File \"c:\\Users\\lucyc\\anaconda3\\envs\\ur_path_planning\\lib\\asyncio\\events.py\", line 80, in _run\n",
      "    self._context.run(self._callback, *self._args)\n",
      "  File \"c:\\Users\\lucyc\\anaconda3\\envs\\ur_path_planning\\lib\\site-packages\\ipykernel\\kernelbase.py\", line 534, in dispatch_queue\n",
      "    await self.process_one()\n",
      "  File \"c:\\Users\\lucyc\\anaconda3\\envs\\ur_path_planning\\lib\\site-packages\\ipykernel\\kernelbase.py\", line 523, in process_one\n",
      "    await dispatch(*args)\n",
      "  File \"c:\\Users\\lucyc\\anaconda3\\envs\\ur_path_planning\\lib\\site-packages\\ipykernel\\kernelbase.py\", line 429, in dispatch_shell\n",
      "    await result\n",
      "  File \"c:\\Users\\lucyc\\anaconda3\\envs\\ur_path_planning\\lib\\site-packages\\ipykernel\\kernelbase.py\", line 767, in execute_request\n",
      "    reply_content = await reply_content\n",
      "  File \"c:\\Users\\lucyc\\anaconda3\\envs\\ur_path_planning\\lib\\site-packages\\ipykernel\\ipkernel.py\", line 429, in do_execute\n",
      "    res = shell.run_cell(\n",
      "  File \"c:\\Users\\lucyc\\anaconda3\\envs\\ur_path_planning\\lib\\site-packages\\ipykernel\\zmqshell.py\", line 549, in run_cell\n",
      "    return super().run_cell(*args, **kwargs)\n",
      "  File \"c:\\Users\\lucyc\\anaconda3\\envs\\ur_path_planning\\lib\\site-packages\\IPython\\core\\interactiveshell.py\", line 3024, in run_cell\n",
      "    result = self._run_cell(\n",
      "  File \"c:\\Users\\lucyc\\anaconda3\\envs\\ur_path_planning\\lib\\site-packages\\IPython\\core\\interactiveshell.py\", line 3079, in _run_cell\n",
      "    result = runner(coro)\n",
      "  File \"c:\\Users\\lucyc\\anaconda3\\envs\\ur_path_planning\\lib\\site-packages\\IPython\\core\\async_helpers.py\", line 129, in _pseudo_sync_runner\n",
      "    coro.send(None)\n",
      "  File \"c:\\Users\\lucyc\\anaconda3\\envs\\ur_path_planning\\lib\\site-packages\\IPython\\core\\interactiveshell.py\", line 3284, in run_cell_async\n",
      "    has_raised = await self.run_ast_nodes(code_ast.body, cell_name,\n",
      "  File \"c:\\Users\\lucyc\\anaconda3\\envs\\ur_path_planning\\lib\\site-packages\\IPython\\core\\interactiveshell.py\", line 3466, in run_ast_nodes\n",
      "    if await self.run_code(code, result, async_=asy):\n",
      "  File \"c:\\Users\\lucyc\\anaconda3\\envs\\ur_path_planning\\lib\\site-packages\\IPython\\core\\interactiveshell.py\", line 3526, in run_code\n",
      "    exec(code_obj, self.user_global_ns, self.user_ns)\n",
      "  File \"C:\\Users\\lucyc\\AppData\\Local\\Temp\\ipykernel_25872\\3132208170.py\", line 1, in <module>\n",
      "    import torch\n",
      "  File \"c:\\Users\\lucyc\\anaconda3\\envs\\ur_path_planning\\lib\\site-packages\\torch\\__init__.py\", line 2120, in <module>\n",
      "    from torch._higher_order_ops import cond\n",
      "  File \"c:\\Users\\lucyc\\anaconda3\\envs\\ur_path_planning\\lib\\site-packages\\torch\\_higher_order_ops\\__init__.py\", line 1, in <module>\n",
      "    from .cond import cond\n",
      "  File \"c:\\Users\\lucyc\\anaconda3\\envs\\ur_path_planning\\lib\\site-packages\\torch\\_higher_order_ops\\cond.py\", line 5, in <module>\n",
      "    import torch._subclasses.functional_tensor\n",
      "  File \"c:\\Users\\lucyc\\anaconda3\\envs\\ur_path_planning\\lib\\site-packages\\torch\\_subclasses\\functional_tensor.py\", line 42, in <module>\n",
      "    class FunctionalTensor(torch.Tensor):\n",
      "  File \"c:\\Users\\lucyc\\anaconda3\\envs\\ur_path_planning\\lib\\site-packages\\torch\\_subclasses\\functional_tensor.py\", line 258, in FunctionalTensor\n",
      "    cpu = _conversion_method_template(device=torch.device(\"cpu\"))\n",
      "c:\\Users\\lucyc\\anaconda3\\envs\\ur_path_planning\\lib\\site-packages\\torch\\_subclasses\\functional_tensor.py:258: UserWarning: Failed to initialize NumPy: \n",
      "A module that was compiled using NumPy 1.x cannot be run in\n",
      "NumPy 2.0.1 as it may crash. To support both 1.x and 2.x\n",
      "versions of NumPy, modules must be compiled with NumPy 2.0.\n",
      "Some module may need to rebuild instead e.g. with 'pybind11>=2.12'.\n",
      "\n",
      "If you are a user of the module, the easiest solution will be to\n",
      "downgrade to 'numpy<2' or try to upgrade the affected module.\n",
      "We expect that some modules will need time to support NumPy 2.\n",
      "\n",
      " (Triggered internally at C:\\actions-runner\\_work\\pytorch\\pytorch\\builder\\windows\\pytorch\\torch\\csrc\\utils\\tensor_numpy.cpp:84.)\n",
      "  cpu = _conversion_method_template(device=torch.device(\"cpu\"))\n"
     ]
    }
   ],
   "source": [
    "import torch\n",
    "import torch.nn as nn\n",
    "import torch.optim as optim\n",
    "from torch.utils.tensorboard.writer import SummaryWriter\n",
    "from torch.utils.data import random_split\n",
    "from datetime import datetime as dt\n",
    "from tqdm import tqdm\n",
    "import numpy as np\n",
    "#import pandas as pd\n",
    "import math\n",
    "from pathlib import Path\n",
    "from dataloader import *\n",
    "from model import *\n",
    "from typing import Optional\n",
    "from timeit import default_timer as timer"
   ]
  },
  {
   "cell_type": "code",
   "execution_count": 2,
   "metadata": {},
   "outputs": [],
   "source": [
    "datetime = dt.now().strftime('%Y-%m-%d_%H-%M-%S')\n",
    "log_folder = f\"runs/{str(datetime)}\"\n",
    "Path(log_folder).mkdir(parents=True, exist_ok=True)\n",
    "writer = SummaryWriter(log_dir=log_folder)\n",
    "model_folder = Path('trained_models') / f\"model-{dt.now().strftime('%Y-%m-%d_%H-%M-%S')}\"\n",
    "Path(model_folder).mkdir(parents=True, exist_ok=True)"
   ]
  },
  {
   "cell_type": "code",
   "execution_count": 3,
   "metadata": {},
   "outputs": [
    {
     "name": "stdout",
     "output_type": "stream",
     "text": [
      "GPU not available, CPU used\n"
     ]
    }
   ],
   "source": [
    "is_cuda = torch.cuda.is_available()\n",
    "if is_cuda:\n",
    "    device = torch.device(\"cuda\")\n",
    "    print(\"GPU is available\")\n",
    "else:\n",
    "    device = torch.device(\"cpu\")\n",
    "    print(\"GPU not available, CPU used\")"
   ]
  },
  {
   "cell_type": "code",
   "execution_count": 4,
   "metadata": {},
   "outputs": [],
   "source": [
    "LR = 0.001\n",
    "EPOCH = 25\n",
    "NUM_HIDDEN_LAYER = 1\n",
    "BATCH_SIZE_TRAININIG = 1\n",
    "EARLY_STOP = False\n",
    "ES_THRESHOLD = 5"
   ]
  },
  {
   "cell_type": "code",
   "execution_count": 9,
   "metadata": {},
   "outputs": [
    {
     "name": "stdout",
     "output_type": "stream",
     "text": [
      "tensor([ 2.8449, -1.1345,  0.5934, -1.2043, -1.5883,  2.3387,  0.0042, -1.1519,\n",
      "         1.3786, -2.1116, -1.5883,  2.3387])\n"
     ]
    },
    {
     "name": "stderr",
     "output_type": "stream",
     "text": [
      "c:\\Users\\lucyc\\anaconda3\\envs\\ur_path_planning\\lib\\site-packages\\torch\\utils\\data\\dataset.py:473: UserWarning: Length of split at index 1 is 0. This might result in an empty dataset.\n",
      "  warnings.warn(\n",
      "c:\\Users\\lucyc\\anaconda3\\envs\\ur_path_planning\\lib\\site-packages\\torch\\utils\\data\\dataset.py:473: UserWarning: Length of split at index 2 is 0. This might result in an empty dataset.\n",
      "  warnings.warn(\n"
     ]
    }
   ],
   "source": [
    "DATA_FOLDER = Path(os.getcwd())/ 'data' / 'rob_data'\n",
    "#print(DATA_FOLDER)\n",
    "train_set = UR5OptPathDataset(DATA_FOLDER / 'train')\n",
    "val_set = UR5OptPathDataset(DATA_FOLDER / 'test')\n",
    "#train_set, val_set, test_set = random_split(dataset_all, [0.8, 0.1, 0.1])\n",
    "\n",
    "#train_loader = get_dataloaders(train_set, batch_size=BATCH_SIZE_TRAININIG)\n",
    "#val_loader = get_dataloaders(val_set, batch_size=4)\n",
    "#test_loader = get_dataloaders(test_set, batch_size=4)\n",
    "train_loader = get_dataloaders(train_set, batch_size=BATCH_SIZE_TRAININIG)\n",
    "val_loader = get_dataloaders(val_set, batch_size=1)\n",
    "\n",
    "num_waypts = int(train_set[0][1].size()[0]/6) # TODO: check if it can return the right numbers\n",
    "print(train_set[0][0])"
   ]
  },
  {
   "cell_type": "code",
   "execution_count": 10,
   "metadata": {},
   "outputs": [],
   "source": [
    "model = FCNN(num_control=num_waypts, hidden_layer=NUM_HIDDEN_LAYER)\n",
    "criterion = nn.MSELoss()\n",
    "optimizer = optim.Adam(model.parameters(), lr=LR)"
   ]
  },
  {
   "cell_type": "code",
   "execution_count": null,
   "metadata": {},
   "outputs": [],
   "source": [
    "lowest_val_loss = math.inf\n",
    "\n",
    "for e in range(EPOCH):\n",
    "        print(f\"--------- Epoch {e + 1} ----------\")\n",
    "\n",
    "        model.train()\n",
    "        train_losses = []\n",
    "        val_losses = []\n",
    "\n",
    "        print(\"---- TRAINING ----\")\n",
    "        for i, (inputs, coefs) in enumerate(tqdm(train_loader, desc=\"Training\")):\n",
    "            model.zero_grad()\n",
    "            inputs=inputs.to(device)\n",
    "            coefs = coefs.to(device)\n",
    "            outputs = model(inputs).logits\n",
    "            train_loss = criterion(outputs, coefs)\n",
    "            train_losses.append(train_loss.item())\n",
    "\n",
    "            train_loss.backward()\n",
    "            optimizer.step()\n",
    "\n",
    "        # log to tensorboard\n",
    "        avg_train_loss = sum(train_losses) / len(train_losses)\n",
    "        writer.add_scalar('Loss/train', avg_train_loss, e)\n",
    "        print(f'Loss: {avg_train_loss}')\n",
    "\n",
    "        \"\"\"if debugging:\n",
    "            # Log gradients and weights for debugging\n",
    "            for layer_name, param in model.named_parameters():\n",
    "                if 'weight' in layer_name:\n",
    "                    if param.requires_grad == True:\n",
    "                        gradient = param.grad\n",
    "                        if type(gradient) is None:\n",
    "                            raise TypeError(f\"The gradient of {layer_name} is a NoneType Object!\")\n",
    "                        writer.add_histogram(f'{layer_name}/weights', param.data, e)\n",
    "                        writer.add_histogram(f'{layer_name}/gradients', param.grad, e)\"\"\"\n",
    "                    \n",
    "        # validation loop\n",
    "        print(\"--- VALIDATION ---\")\n",
    "        with torch.no_grad():\n",
    "            model.eval()\n",
    "            for inputs, coefs in tqdm(val_loader, desc=\"Validation\"):\n",
    "                inputs=inputs.to(device)\n",
    "                eef_pos=eef_pos.to(device)\n",
    "                labels = labels.to(device)\n",
    "                outputs = model(inputs).logits\n",
    "                val_loss = criterion(outputs, labels)\n",
    "                val_losses.append(val_loss.item())\n",
    "\n",
    "            # log to tensorboard\n",
    "            avg_val_loss = sum(val_losses) / len(val_losses)\n",
    "            writer.add_scalar('Loss/val', avg_val_loss, e)\n",
    "            print(f'Loss: {round(avg_val_loss, 4)}')\n",
    "            \n",
    "            # save the model with the lowest val loss\n",
    "            if avg_val_loss < lowest_val_loss:\n",
    "                lowest_val_loss = avg_val_loss\n",
    "                torch.save(model.state_dict(), model_folder / \"model_low_loss.pth\")\n",
    "                early_stopping_counter = 0\n",
    "            else:\n",
    "                early_stopping_counter += 1\n",
    "            \n",
    "            if EARLY_STOP:\n",
    "                if early_stopping_counter == ES_THRESHOLD:\n",
    "                    print('Early Stopping')\n",
    "                    break\n"
   ]
  }
 ],
 "metadata": {
  "kernelspec": {
   "display_name": "ur_path_planning",
   "language": "python",
   "name": "python3"
  },
  "language_info": {
   "codemirror_mode": {
    "name": "ipython",
    "version": 3
   },
   "file_extension": ".py",
   "mimetype": "text/x-python",
   "name": "python",
   "nbconvert_exporter": "python",
   "pygments_lexer": "ipython3",
   "version": "3.9.19"
  }
 },
 "nbformat": 4,
 "nbformat_minor": 2
}
